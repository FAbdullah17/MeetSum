{
 "cells": [
  {
   "cell_type": "code",
   "execution_count": 3,
   "id": "7577f23c",
   "metadata": {},
   "outputs": [],
   "source": [
    "from datasets import load_dataset\n",
    "meetingbank = load_dataset(\"huuuyeah/meetingbank\")\n",
    "\n",
    "train_data = meetingbank['train']\n",
    "test_data = meetingbank['test']\n",
    "val_data = meetingbank['validation']"
   ]
  },
  {
   "cell_type": "code",
   "execution_count": null,
   "id": "3266be16",
   "metadata": {},
   "outputs": [
    {
     "name": "stderr",
     "output_type": "stream",
     "text": [
      "Saving the dataset (1/1 shards): 100%|██████████| 5169/5169 [00:00<00:00, 22690.47 examples/s]\n",
      "Saving the dataset (1/1 shards): 100%|██████████| 861/861 [00:00<00:00, 21777.23 examples/s]\n",
      "Saving the dataset (1/1 shards): 100%|██████████| 862/862 [00:00<00:00, 50072.57 examples/s]\n"
     ]
    }
   ],
   "source": [
    "train_data.save_to_disk(\"data/raw/train\")\n",
    "val_data.save_to_disk(\"data/raw/validation\")\n",
    "test_data.save_to_disk(\"data/raw/test\")"
   ]
  },
  {
   "cell_type": "code",
   "execution_count": null,
   "id": "80ec9a87",
   "metadata": {},
   "outputs": [],
   "source": []
  }
 ],
 "metadata": {
  "kernelspec": {
   "display_name": "Python 3",
   "language": "python",
   "name": "python3"
  },
  "language_info": {
   "codemirror_mode": {
    "name": "ipython",
    "version": 3
   },
   "file_extension": ".py",
   "mimetype": "text/x-python",
   "name": "python",
   "nbconvert_exporter": "python",
   "pygments_lexer": "ipython3",
   "version": "3.12.7"
  }
 },
 "nbformat": 4,
 "nbformat_minor": 5
}
